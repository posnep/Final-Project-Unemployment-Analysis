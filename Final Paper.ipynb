{
 "cells": [
  {
   "cell_type": "markdown",
   "id": "54a8a996",
   "metadata": {},
   "source": [
    "---\n",
    "Study of Improper payments made by the Unemployment Agencies from 2016-2021\n",
    "---\n",
    "### Author: Muhammed Asif Bhatti\n",
    "### Published: Thursday, December 15"
   ]
  },
  {
   "cell_type": "markdown",
   "id": "905c7534",
   "metadata": {},
   "source": [
    "# 1. Introduction"
   ]
  },
  {
   "cell_type": "markdown",
   "id": "8702a4da",
   "metadata": {},
   "source": [
    "The US Unemployment Insurance Program is a social insurance program that aims to complement wages for claimants who have lost a significant amount of their livable wages. The first unemployment program was created at a state level in 1932 for the great State of Wisconsin. It was in 1935 where the federal government created a similar program that would bring the program nationwide but administered by states.\n",
    "Unemployment eligibility is determined by a set of requirements, which often vary by states. Generally speaking, if the separation from the employee is without cause (e.g., fired for misconduct) then the person is eligible for unemployment benefits. Said another way, if a person simply leaves a job without “good cause” then they are not eligible for unemployment.\n",
    "\n",
    "To provide a brief overview of the funding structure, unemployment programs are funded by both federal and state payroll taxes. In most states employers pay state and federal unemployment taxes if they pay an employee more than $1500 or more for any quarter or if they had an employee for any business day in the quarter. This in turn builds a trust fund from which benefits are distributed upon confirmation of eligibility of claimants. \n",
    "\n",
    "During the COVID-19 pandemic, many residents of states were faced with safeguarding their lives from a deadly pandemic which in turn led them to staying at home. The other side of safeguarding their livelihoods resulted in large amounts of unemployment, which ultimately many state systems were not setup to manage. Unemployment Agencies in turn had to serve a larger amount of the population at top performance levels, while trying to ensure low overall improper payments made to claimants. \n",
    "\n",
    "Additionally, during COVID-19 state unemployment agencies faced many changes and issues with their programs and processes.\n",
    "This study looks at the history of unemployment disbursement from 2016 - 2021 as measured by improper payment rates. Specifically, we hope to understand if certain states that have higher budgets, federal funding, capital expenditures, education, populations have a correlation to improper payment rate. \n",
    "\n",
    "We will provide more detail on the overall problem, walkthrough of the data sources used for this study, discuss preliminary analysis conducted, detailed review of the results and a brief discussion of potential outcomes from this work. \n"
   ]
  },
  {
   "cell_type": "markdown",
   "id": "14f32723",
   "metadata": {},
   "source": [
    "## Unemployment Insurance and COVID-19\n",
    "During COVID-19 state unemployment agencies faced many changes and issues with their programs and processes. </n>\n",
    "</n>\n",
    "</n>\n",
    "\n",
    "| Changes to the Unemployment Program | Challenges faced by Unemployment Agencies |\n",
    "| ----------- | ----------- |\n",
    "| <li>Provide an additional $600 per week (PUA) who were collecting regular UC</li> | <li>Highest volume of claimants seen in over a decade |\n",
    "| <li>Additional Unemployment compensation for servicemembers </li>| <li>Agencies were not equipped to process level of claims inbound |\n",
    "| <li>Extended benefits for those receiveing benefits </li>| <li>Highest levels of internal and external fraud with low fidelity in fraud monitoring systems |\n",
    "| <li>Loosened eligibility requirements for claimants </li>| <li>Traditional UI agency processes broke down because of remote-first workplaces |\n",
    "| <li>Many other programs introduced (PEUC, FPUC, MEUC) </li>| <li>Low technology skills / capabilities within agencies |\n",
    "\n",
    "\n",
    "\n",
    "Additionally, various state bodies (e.g., Medicare, Medicaid, State Legislatures) inundated unemployment agencies with inquiries regarding processing delays, adjudication issues, or huge backlogs on ID verification issues"
   ]
  },
  {
   "cell_type": "markdown",
   "id": "272e5255",
   "metadata": {},
   "source": [
    "![4-14-20sfpf4.png](attachment:4-14-20sfpf4.png)\n",
    "\n",
    "In the inital weeks of the pandemic Unemployment rates surged as business tried to respond to global shutdowns. This left many residents without pay during a pandemic.å"
   ]
  },
  {
   "cell_type": "markdown",
   "id": "40ea8d51",
   "metadata": {},
   "source": [
    "# 2. Problem Statement and Background\n",
    "– Student offered a clear and complete statement of the problem and/or aim of their\n",
    "analysis.\n",
    "– Student included a brief summary of any related work (i.e. a light literature review)"
   ]
  },
  {
   "cell_type": "markdown",
   "id": "c2e9633a",
   "metadata": {},
   "source": [
    "# 3. Data\n",
    "– Student outlined where their data came from.\n",
    "– Student clearly specified:\n",
    "∗ the unit of observation;\n",
    "∗ the outcome of interest and how it is measured;\n",
    "∗ predictor variables of interest (and why they were selected);\n",
    "∗ potential issues in the data (e.g. missingness, coverage, etc.)\n",
    "– Student articulate the steps they took to wrangle the data"
   ]
  },
  {
   "cell_type": "markdown",
   "id": "31a30340",
   "metadata": {},
   "source": [
    "# 4. Analysis\n",
    "– Student described the methods/tools they explored in their project.\n",
    "∗ Justified the tools/methods that they used.\n",
    "∗ Adequately described what the tools/methods are doing.\n",
    "∗ Note: Assume the reader is smart but doesn’t know programming/machine mearning\n",
    "well. That is, be crystal clear about what you’re doing and why"
   ]
  },
  {
   "cell_type": "markdown",
   "id": "485474ea",
   "metadata": {},
   "source": [
    "# 5. Results\n",
    "– Student gave a detailed summary of their results.\n",
    "– Student presented their results clearly and concisely.\n",
    "– Student used visualizations (and tables) whenever possible/appropriate.\n",
    "– Student highlighted some clear takeaways (“things learned”) and theoretical implications\n",
    "(“potential hypotheses”) from their analysis."
   ]
  },
  {
   "cell_type": "markdown",
   "id": "954bc309",
   "metadata": {},
   "source": [
    "# 6. Discussion \n",
    "– Student spoke on the “success” of their project (as defined in their proposal).\n",
    "∗ “Did you  achieve what you set out to do? If not why?”\n",
    "– Student articulate how they would expand the analysis if given more time."
   ]
  }
 ],
 "metadata": {
  "kernelspec": {
   "display_name": "R",
   "language": "R",
   "name": "ir"
  },
  "language_info": {
   "codemirror_mode": "r",
   "file_extension": ".r",
   "mimetype": "text/x-r-source",
   "name": "R",
   "pygments_lexer": "r",
   "version": "4.1.1"
  }
 },
 "nbformat": 4,
 "nbformat_minor": 5
}
